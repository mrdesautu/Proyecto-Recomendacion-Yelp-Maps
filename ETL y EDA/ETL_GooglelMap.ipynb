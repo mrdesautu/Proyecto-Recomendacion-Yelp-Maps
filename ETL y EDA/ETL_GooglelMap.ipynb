{
  "nbformat": 4,
  "nbformat_minor": 0,
  "metadata": {
    "colab": {
      "provenance": []
    },
    "kernelspec": {
      "name": "python3",
      "display_name": "Python 3"
    },
    "language_info": {
      "name": "python"
    }
  },
  "cells": [
    {
      "cell_type": "code",
      "source": [
        "from google.colab import drive\n",
        "drive.mount('/content/drive')"
      ],
      "metadata": {
        "colab": {
          "base_uri": "https://localhost:8080/"
        },
        "id": "3s1TvvAdOExZ",
        "outputId": "09fb54ce-d14a-45f0-a17c-e4641f9d17b2"
      },
      "execution_count": null,
      "outputs": [
        {
          "output_type": "stream",
          "name": "stdout",
          "text": [
            "Drive already mounted at /content/drive; to attempt to forcibly remount, call drive.mount(\"/content/drive\", force_remount=True).\n"
          ]
        }
      ]
    },
    {
      "cell_type": "code",
      "source": [
        "pip install -r /content/drive/MyDrive/Recomendations_Yelp_GMap/requeriments.txt"
      ],
      "metadata": {
        "id": "uY3jtApDPowT"
      },
      "execution_count": null,
      "outputs": []
    },
    {
      "cell_type": "code",
      "execution_count": null,
      "metadata": {
        "id": "v4ZhhAel7gnC"
      },
      "outputs": [],
      "source": [
        "import pandas as pd\n",
        "import numpy as np\n",
        "import matplotlib.pyplot as plt\n",
        "import seaborn as sns\n",
        "import json\n",
        "import datetime\n",
        "import os"
      ]
    },
    {
      "cell_type": "code",
      "source": [
        "\n",
        "#Los nombres de los estados estan escritos en minuscula y español para simplificar este estudio\n",
        "# mapeamos el nombre del estado con la carpeta que contiene los archivos de ese estado\n",
        "state_names =  {\n",
        "                'alabama': 'Alabama',\n",
        "                'alaska': 'Alaska',\n",
        "                'arkansas' : 'Arkansas' ,\n",
        "                'california' : 'California',\n",
        "                'colorado' : 'Colorado',\n",
        "                'connecticut' : 'Connecticut',\n",
        "                'delaware' : 'Delaware' ,\n",
        "                'florida' : 'Florida' ,\n",
        "                'hawaii' : 'Hawaii' ,\n",
        "                'idaho' : 'Idaho' ,\n",
        "                'illinois' : 'Illinois' ,\n",
        "                'iowa' : 'Iowa' ,\n",
        "                'kansas' : 'Kansas' ,\n",
        "                'luisiana' : 'Louisiana' ,\n",
        "                'maine' : 'Maine' ,\n",
        "                'maryland' : 'Maryland' ,\n",
        "                'massachusetts' : 'Massachusetts' ,\n",
        "                'minesota' : 'Minnesota' ,\n",
        "                'misisipi' : 'Mississippi'           \n",
        "\n",
        "            }\n",
        "# Elejimos alguno de estos estados con datos existentes: Luisiana, California, Florida \n",
        "estado_federal = 'California'\n",
        "estado_federal = estado_federal.lower()\n",
        "nombre_estado = state_names[estado_federal]\n"
      ],
      "metadata": {
        "id": "CCPOAeznEoON"
      },
      "execution_count": null,
      "outputs": []
    },
    {
      "cell_type": "code",
      "source": [
        "#Los nombres de los estados estan escritos en minuscula y español para simplificar el codigo\n",
        "#Diccioanrio para mapear el nombre de cada estado a su respectiva inicial de estado\n",
        "dic_states =  {\n",
        "                'alabama': 'AL',\n",
        "                'alaska': 'AK',\n",
        "                'arkansas' : 'AR' ,\n",
        "                'california' : 'CA',\n",
        "                'colorado' : 'CO',\n",
        "                'connecticut' : 'CT',\n",
        "                'delaware' : 'DE' ,\n",
        "                'florida' : 'FL' ,\n",
        "                'hawaii' : 'HI' ,\n",
        "                'idaho' : 'ID' ,\n",
        "                'illinois' : 'IL' ,\n",
        "                'iowa' : 'IA' ,\n",
        "                'kansas' : 'KS' ,\n",
        "                'luisiana' : 'LA' ,\n",
        "                'maine' : 'ME' ,\n",
        "                'maryland' : 'MD' ,\n",
        "                'massachusetts' : 'MA' ,\n",
        "                'minnesota' : 'MN' ,\n",
        "                'misisipi' : 'MS'           \n",
        "\n",
        "            }\n",
        "\n",
        "inicial_estado = dic_states[estado_federal]"
      ],
      "metadata": {
        "id": "dknsVA2kO1bx"
      },
      "execution_count": null,
      "outputs": []
    },
    {
      "cell_type": "code",
      "source": [
        "#Creamos una lista con los nombres y extensiones de los archivos reviews en la carpeta del estado seleccionado\n",
        "\n",
        "# Definimos la ruta de la carpeta que contiene los archivos JSON de estado \n",
        "carpeta_raiz = '/content/drive/MyDrive/Recomendations_Yelp_GMap/RAW_Data/GoogleMap_Data/reviews-estados'\n",
        "\n",
        "carpeta_estado ='/review-'+nombre_estado\n",
        "ruta_archivos = carpeta_raiz+carpeta_estado\n",
        "# Obtenemos una lista de los nombres de archivos en la carpeta\n",
        "archivos = os.listdir(ruta_archivos)\n",
        "\n",
        "# Filtramos los archivos que tienen una extensión .json\n",
        "archivos_json = [archivo for archivo in archivos if archivo.endswith('.json')]\n",
        "\n",
        "# Almacenamos los nombres de los archivos en una lista\n",
        "nombres_archivos = []\n",
        "for archivo in archivos_json:\n",
        "    nombres_archivos.append(archivo)\n",
        "\n",
        "# Imprimimos la lista de nombres de archivos\n",
        "print(nombres_archivos)"
      ],
      "metadata": {
        "colab": {
          "base_uri": "https://localhost:8080/"
        },
        "id": "aRN-nC9NN50a",
        "outputId": "32fdd0fb-046a-4352-e4e3-ee2186caf8c9"
      },
      "execution_count": null,
      "outputs": [
        {
          "output_type": "stream",
          "name": "stdout",
          "text": [
            "['5.json', '6.json', '7.json', '10.json', '12.json']\n"
          ]
        }
      ]
    },
    {
      "cell_type": "code",
      "source": [
        "#Usamos una iteración para cargar todos los archivos review en formato .json en un solo dataframe\n",
        "df_reviews = pd.DataFrame()\n",
        "tope = len(nombres_archivos)\n",
        "for i in range(0,tope): \n",
        "    df_parcial = pd.read_json(ruta_archivos + '/' + nombres_archivos[i], lines=True)\n",
        "    df_reviews = pd.concat([df_reviews,df_parcial])\n",
        "   \n",
        "# Imprimir el dataframe resultante\n",
        "df_reviews.info()"
      ],
      "metadata": {
        "colab": {
          "base_uri": "https://localhost:8080/"
        },
        "id": "DwVadbmacJPR",
        "outputId": "c4e082ec-1029-45ac-b483-0ddefc674049"
      },
      "execution_count": null,
      "outputs": [
        {
          "output_type": "stream",
          "name": "stdout",
          "text": [
            "<class 'pandas.core.frame.DataFrame'>\n",
            "Int64Index: 750000 entries, 0 to 149999\n",
            "Data columns (total 8 columns):\n",
            " #   Column   Non-Null Count   Dtype  \n",
            "---  ------   --------------   -----  \n",
            " 0   user_id  750000 non-null  float64\n",
            " 1   name     750000 non-null  object \n",
            " 2   time     750000 non-null  int64  \n",
            " 3   rating   750000 non-null  int64  \n",
            " 4   text     431450 non-null  object \n",
            " 5   pics     27365 non-null   object \n",
            " 6   resp     71646 non-null   object \n",
            " 7   gmap_id  750000 non-null  object \n",
            "dtypes: float64(1), int64(2), object(5)\n",
            "memory usage: 51.5+ MB\n"
          ]
        }
      ]
    },
    {
      "cell_type": "code",
      "source": [
        "#Creamos una lista con los nombres y extensiones de los archivos metadada en la carpeta metadata-sitios\n",
        "# Definimos la ruta de la carpeta que contiene los archivos metada en formato JSON \n",
        "ruta_metadata = '/content/drive/MyDrive/Recomendations_Yelp_GMap/RAW_Data/GoogleMap_Data/metadata-sitios'\n",
        "\n",
        "# Obtenemos una lista de los nombres de archivos en la carpeta\n",
        "archivos = os.listdir(ruta_metadata)\n",
        "\n",
        "# Filtramos los archivos que tienen una extensión .json\n",
        "archivos_json = [archivo for archivo in archivos if archivo.endswith('.json')]\n",
        "\n",
        "# Almacenamos los nombres de los archivos metadata en una lista\n",
        "nombres_archivos_metadata = []\n",
        "for archivo in archivos_json:\n",
        "    nombres_archivos_metadata.append(archivo)\n",
        "\n",
        "# Imprimimos la lista de nombres de archivos metadata\n",
        "print(nombres_archivos_metadata)"
      ],
      "metadata": {
        "colab": {
          "base_uri": "https://localhost:8080/"
        },
        "outputId": "ff9f6bb1-2dc9-4251-c3c3-29334f8431ce",
        "id": "afSV70BmW8EF"
      },
      "execution_count": null,
      "outputs": [
        {
          "output_type": "stream",
          "name": "stdout",
          "text": [
            "['2.json', '6.json', '7.json', '8.json', '9.json', '10.json', '11.json']\n"
          ]
        }
      ]
    },
    {
      "cell_type": "code",
      "source": [
        "#Usamos una iteración para cargar los archivos metadata en formato .json en un solo dataframe\n",
        "df_metadata = pd.DataFrame()\n",
        "tope = len(nombres_archivos_metadata)\n",
        "for i in range(0,tope): \n",
        "    df_parcial = pd.read_json(ruta_metadata + '/' + nombres_archivos_metadata[i], lines=True)\n",
        "    df_metadata = pd.concat([df_metadata,df_parcial])\n",
        "   \n",
        "# Imprimir el dataframe resultante\n",
        "df_metadata.info()"
      ],
      "metadata": {
        "colab": {
          "base_uri": "https://localhost:8080/"
        },
        "id": "QCi6QhAs75aG",
        "outputId": "7890fa5b-71c0-4603-946d-634e54965fbe"
      },
      "execution_count": null,
      "outputs": [
        {
          "output_type": "stream",
          "name": "stdout",
          "text": [
            "<class 'pandas.core.frame.DataFrame'>\n",
            "Int64Index: 1925007 entries, 0 to 275000\n",
            "Data columns (total 15 columns):\n",
            " #   Column            Dtype  \n",
            "---  ------            -----  \n",
            " 0   name              object \n",
            " 1   address           object \n",
            " 2   gmap_id           object \n",
            " 3   description       object \n",
            " 4   latitude          float64\n",
            " 5   longitude         float64\n",
            " 6   category          object \n",
            " 7   avg_rating        float64\n",
            " 8   num_of_reviews    int64  \n",
            " 9   price             object \n",
            " 10  hours             object \n",
            " 11  MISC              object \n",
            " 12  state             object \n",
            " 13  relative_results  object \n",
            " 14  url               object \n",
            "dtypes: float64(3), int64(1), object(11)\n",
            "memory usage: 235.0+ MB\n"
          ]
        }
      ]
    },
    {
      "cell_type": "code",
      "source": [
        "df_metadata['category'].head(10)"
      ],
      "metadata": {
        "colab": {
          "base_uri": "https://localhost:8080/"
        },
        "id": "xisq3TdeYNvu",
        "outputId": "e1be584c-1753-4a6e-9737-a954a068c361"
      },
      "execution_count": null,
      "outputs": [
        {
          "output_type": "execute_result",
          "data": {
            "text/plain": [
              "0                                           [Pharmacy]\n",
              "1    [Clothing store, Shoe store, Women's clothing ...\n",
              "2                 [Handicapped transportation service]\n",
              "3    [Flooring store, Carpet store, Rug store, Tile...\n",
              "4                                             [Doctor]\n",
              "5                                     [Auto body shop]\n",
              "6                                        [Barber shop]\n",
              "7    [Fashion accessories store, Baby clothing stor...\n",
              "8                                  [Table tennis club]\n",
              "9    [Tennis club, Sports complex, Tennis instructo...\n",
              "Name: category, dtype: object"
            ]
          },
          "metadata": {},
          "execution_count": 21
        }
      ]
    },
    {
      "cell_type": "code",
      "source": [
        "#Eliminamos los caracteres \"[,],','\" del campo category en todo el dataframe metadata\n",
        "df_metadata['category'] = df_metadata['category'].astype(str)\n",
        "df_metadata['category'] = df_metadata['category'].str.replace(\"[\", \"\").str.replace(\"]\", \"\")\n",
        "df_metadata['category'] = df_metadata['category'].str.replace(\"'\", \"\").str.replace(\"'\", \"\")\n",
        "#Filtramos el dataframe para que solo contenga a los registros con la palabra 'restaurant' en el campo category\n",
        "df_metadata = df_metadata[df_metadata['category'].str.contains('restaurant')]"
      ],
      "metadata": {
        "colab": {
          "base_uri": "https://localhost:8080/"
        },
        "id": "Iva7Xmd0H5eU",
        "outputId": "0d93c917-32c4-4c77-f588-d60775b17938"
      },
      "execution_count": null,
      "outputs": [
        {
          "output_type": "stream",
          "name": "stderr",
          "text": [
            "<ipython-input-22-5934524cb76f>:3: FutureWarning: The default value of regex will change from True to False in a future version. In addition, single character regular expressions will *not* be treated as literal strings when regex=True.\n",
            "  df_metadata['category'] = df_metadata['category'].str.replace(\"[\", \"\").str.replace(\"]\", \"\")\n"
          ]
        }
      ]
    },
    {
      "cell_type": "code",
      "source": [
        "#Almacenamos el dataset de metadata de manera permanente para proximas consultas\n",
        "df_metadata.to_parquet('metadatos_Gmap.parquet')\n",
        "# Guardamos el archivo de metadata limpio\n",
        "metadata_file_path = '/content/drive/MyDrive/Recomendations_Yelp_GMap/Clean_Data/'+'metadatos_Gmap.parquet'\n",
        "df_metadata.to_parquet(metadata_file_path)"
      ],
      "metadata": {
        "id": "pRkQ6Z4ZJgmS"
      },
      "execution_count": null,
      "outputs": []
    },
    {
      "cell_type": "code",
      "source": [
        "# Unimos las dos tablas (dataframe) en una sola\n",
        "df_metadata_reviews = pd.merge(df_metadata, df_reviews , on='gmap_id')"
      ],
      "metadata": {
        "id": "uOORcYlaLmbs"
      },
      "execution_count": null,
      "outputs": []
    },
    {
      "cell_type": "code",
      "source": [
        "# Eliminamos los campo que ya no necesitamos  y asi reducimos el tamaño del archivo de data final\n",
        "#union_gmap = union_gmap.drop('pics', axis=1)\n",
        "#union_gmap = union_gmap.drop('resp', axis=1)\n",
        "#union_gmap = union_gmap.drop('geometry', axis=1)\n",
        "#union_gmap = union_gmap.drop('name_x', axis=1)\n",
        "#union_gmap = union_gmap.drop('address', axis=1)\n",
        "#union_gmap = union_gmap.drop('description', axis=1)\n",
        "#union_gmap = union_gmap.drop('category', axis=1)\n",
        "#union_gmap = union_gmap.drop('latitude', axis=1)\n",
        "#union_gmap = union_gmap.drop('longitude', axis=1)\n",
        "#union_gmap = union_gmap.drop('avg_rating', axis=1)\n",
        "#union_gmap = union_gmap.drop('num_of_reviews', axis=1)\n",
        "#union_gmap = union_gmap.drop('price', axis=1)\n",
        "#union_gmap = union_gmap.drop('hours', axis=1)\n",
        "#union_gmap = union_gmap.drop('MISC', axis=1)\n",
        "#union_gmap = union_gmap.drop('state', axis=1)\n",
        "df_metadata_reviews = df_metadata_reviews.drop('relative_results', axis=1)\n",
        "df_metadata_reviews = df_metadata_reviews.drop('url', axis=1)"
      ],
      "metadata": {
        "id": "kGO0nbavMHlL"
      },
      "execution_count": null,
      "outputs": []
    },
    {
      "cell_type": "code",
      "source": [
        "# Convertir el valor a un objeto datetime\n",
        "df_metadata_reviews['time'] = datetime.datetime.fromtimestamp(df_metadata_reviews['time'] / 1000.0)\n",
        "\n",
        "# Imprimir la fecha y hora en un formato legible\n",
        "print(df_metadata_reviews['time'].strftime('%Y-%m-%d %H:%M:%S'))"
      ],
      "metadata": {
        "colab": {
          "base_uri": "https://localhost:8080/",
          "height": 356
        },
        "id": "xiShrmAgMTyR",
        "outputId": "b7ad32d8-8e84-40b3-a167-84ef6e7421e1"
      },
      "execution_count": null,
      "outputs": [
        {
          "output_type": "error",
          "ename": "TypeError",
          "evalue": "ignored",
          "traceback": [
            "\u001b[0;31m---------------------------------------------------------------------------\u001b[0m",
            "\u001b[0;31mTypeError\u001b[0m                                 Traceback (most recent call last)",
            "\u001b[0;32m<ipython-input-26-c5dd63402845>\u001b[0m in \u001b[0;36m<module>\u001b[0;34m\u001b[0m\n\u001b[1;32m      1\u001b[0m \u001b[0;31m# Convertir el valor a un objeto datetime\u001b[0m\u001b[0;34m\u001b[0m\u001b[0;34m\u001b[0m\u001b[0m\n\u001b[0;32m----> 2\u001b[0;31m \u001b[0mdf_metadata_reviews\u001b[0m\u001b[0;34m[\u001b[0m\u001b[0;34m'time'\u001b[0m\u001b[0;34m]\u001b[0m \u001b[0;34m=\u001b[0m \u001b[0mdatetime\u001b[0m\u001b[0;34m.\u001b[0m\u001b[0mdatetime\u001b[0m\u001b[0;34m.\u001b[0m\u001b[0mfromtimestamp\u001b[0m\u001b[0;34m(\u001b[0m\u001b[0mdf_metadata_reviews\u001b[0m\u001b[0;34m[\u001b[0m\u001b[0;34m'time'\u001b[0m\u001b[0;34m]\u001b[0m \u001b[0;34m/\u001b[0m \u001b[0;36m1000.0\u001b[0m\u001b[0;34m)\u001b[0m\u001b[0;34m\u001b[0m\u001b[0;34m\u001b[0m\u001b[0m\n\u001b[0m\u001b[1;32m      3\u001b[0m \u001b[0;34m\u001b[0m\u001b[0m\n\u001b[1;32m      4\u001b[0m \u001b[0;31m# Imprimir la fecha y hora en un formato legible\u001b[0m\u001b[0;34m\u001b[0m\u001b[0;34m\u001b[0m\u001b[0m\n\u001b[1;32m      5\u001b[0m \u001b[0mprint\u001b[0m\u001b[0;34m(\u001b[0m\u001b[0mdf_metadata_reviews\u001b[0m\u001b[0;34m[\u001b[0m\u001b[0;34m'time'\u001b[0m\u001b[0;34m]\u001b[0m\u001b[0;34m.\u001b[0m\u001b[0mstrftime\u001b[0m\u001b[0;34m(\u001b[0m\u001b[0;34m'%Y-%m-%d %H:%M:%S'\u001b[0m\u001b[0;34m)\u001b[0m\u001b[0;34m)\u001b[0m\u001b[0;34m\u001b[0m\u001b[0;34m\u001b[0m\u001b[0m\n",
            "\u001b[0;32m/usr/local/lib/python3.9/dist-packages/pandas/core/series.py\u001b[0m in \u001b[0;36mwrapper\u001b[0;34m(self)\u001b[0m\n\u001b[1;32m    189\u001b[0m         \u001b[0;32mif\u001b[0m \u001b[0mlen\u001b[0m\u001b[0;34m(\u001b[0m\u001b[0mself\u001b[0m\u001b[0;34m)\u001b[0m \u001b[0;34m==\u001b[0m \u001b[0;36m1\u001b[0m\u001b[0;34m:\u001b[0m\u001b[0;34m\u001b[0m\u001b[0;34m\u001b[0m\u001b[0m\n\u001b[1;32m    190\u001b[0m             \u001b[0;32mreturn\u001b[0m \u001b[0mconverter\u001b[0m\u001b[0;34m(\u001b[0m\u001b[0mself\u001b[0m\u001b[0;34m.\u001b[0m\u001b[0miloc\u001b[0m\u001b[0;34m[\u001b[0m\u001b[0;36m0\u001b[0m\u001b[0;34m]\u001b[0m\u001b[0;34m)\u001b[0m\u001b[0;34m\u001b[0m\u001b[0;34m\u001b[0m\u001b[0m\n\u001b[0;32m--> 191\u001b[0;31m         \u001b[0;32mraise\u001b[0m \u001b[0mTypeError\u001b[0m\u001b[0;34m(\u001b[0m\u001b[0;34mf\"cannot convert the series to {converter}\"\u001b[0m\u001b[0;34m)\u001b[0m\u001b[0;34m\u001b[0m\u001b[0;34m\u001b[0m\u001b[0m\n\u001b[0m\u001b[1;32m    192\u001b[0m \u001b[0;34m\u001b[0m\u001b[0m\n\u001b[1;32m    193\u001b[0m     \u001b[0mwrapper\u001b[0m\u001b[0;34m.\u001b[0m\u001b[0m__name__\u001b[0m \u001b[0;34m=\u001b[0m \u001b[0;34mf\"__{converter.__name__}__\"\u001b[0m\u001b[0;34m\u001b[0m\u001b[0;34m\u001b[0m\u001b[0m\n",
            "\u001b[0;31mTypeError\u001b[0m: cannot convert the series to <class 'int'>"
          ]
        }
      ]
    },
    {
      "cell_type": "code",
      "source": [
        "# Aplicar la función fromtimestamp() a la serie 'time' y crear una nueva serie de objetos de fecha y hora\n",
        "date_series = df_metadata_reviews['time'].apply(lambda x: datetime.datetime.fromtimestamp(x / 1000.0))\n",
        "\n",
        "# Asignar la nueva serie de objetos de fecha y hora a una nueva columna en el dataframe\n",
        "df_metadata_reviews['datetime'] = date_series"
      ],
      "metadata": {
        "id": "izZqEi-6MvW5"
      },
      "execution_count": null,
      "outputs": []
    },
    {
      "cell_type": "code",
      "source": [
        "df_metadata_reviews.MISC.unique()"
      ],
      "metadata": {
        "id": "rMfgikLiM528"
      },
      "execution_count": null,
      "outputs": []
    },
    {
      "cell_type": "code",
      "source": [
        "\n",
        "# Guardamos el archivo de metadata limpio\n",
        "Gmap_review_file_path = '/content/drive/MyDrive/Recomendations_Yelp_GMap/Clean_Data/'+'G_reviews_'+inicial_estado+'.parquet'\n",
        "df_metadata.to_parquet(Gmap_review_file_path)"
      ],
      "metadata": {
        "id": "5qF_Btd2NA5v"
      },
      "execution_count": null,
      "outputs": []
    }
  ]
}