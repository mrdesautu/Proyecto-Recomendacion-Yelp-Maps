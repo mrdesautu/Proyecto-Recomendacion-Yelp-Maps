{
  "cells": [
    {
      "cell_type": "markdown",
      "metadata": {
        "id": "km7yGFMy6mtR"
      },
      "source": [
        "### Leer Archivos"
      ]
    },
    {
      "cell_type": "code",
      "execution_count": null,
      "metadata": {
        "colab": {
          "base_uri": "https://localhost:8080/"
        },
        "id": "sUcBwHPd6aA3",
        "outputId": "660ae1c3-03b6-4c9e-d588-6aa07047eaf2"
      },
      "outputs": [
        {
          "output_type": "stream",
          "name": "stdout",
          "text": [
            "Mounted at /content/drive\n"
          ]
        }
      ],
      "source": [
        "from google.colab import drive\n",
        "drive.mount('/content/drive')"
      ]
    },
    {
      "cell_type": "code",
      "execution_count": null,
      "metadata": {
        "id": "9ues2ekPFIFp"
      },
      "outputs": [],
      "source": [
        "pip install -r /content/drive/MyDrive/Recomendations_Yelp_GMap/requeriments.txt"
      ]
    },
    {
      "cell_type": "code",
      "execution_count": null,
      "metadata": {
        "id": "_k6iUGARBEoO"
      },
      "outputs": [],
      "source": [
        "import pandas as pd\n",
        "import geopandas as gpd\n",
        "import fiona\n",
        "import numpy as np\n",
        "import json"
      ]
    },
    {
      "cell_type": "markdown",
      "metadata": {
        "id": "Y3ndzQxiB8gq"
      },
      "source": [
        "# Nueva sección"
      ]
    },
    {
      "cell_type": "code",
      "execution_count": null,
      "metadata": {
        "id": "U_LUPcvY8MB_"
      },
      "outputs": [],
      "source": [
        "\n",
        "business_file_path = '/content/drive/MyDrive/Recomendations_Yelp_GMap/RAW_Data/Yelp_Data/business.pkl'\n",
        "# Carga del archivo bussines.pkl en formato pickle\n",
        "df_business = pd.read_pickle(business_file_path)\n",
        "\n"
      ]
    },
    {
      "cell_type": "code",
      "execution_count": null,
      "metadata": {
        "colab": {
          "base_uri": "https://localhost:8080/"
        },
        "id": "uqr5WFoNCUDf",
        "outputId": "0ef89e9b-f577-4e8f-a242-d76a50b3b1fe"
      },
      "outputs": [
        {
          "output_type": "stream",
          "name": "stdout",
          "text": [
            "<class 'geopandas.geodataframe.GeoDataFrame'>\n",
            "Int64Index: 5175 entries, 0 to 150303\n",
            "Data columns (total 15 columns):\n",
            " #   Column        Non-Null Count  Dtype   \n",
            "---  ------        --------------  -----   \n",
            " 0   business_id   5175 non-null   object  \n",
            " 1   name          5175 non-null   object  \n",
            " 2   address       5175 non-null   object  \n",
            " 3   city          5175 non-null   object  \n",
            " 4   state         5174 non-null   object  \n",
            " 5   postal_code   5175 non-null   object  \n",
            " 6   latitude      5175 non-null   object  \n",
            " 7   longitude     5175 non-null   object  \n",
            " 8   stars         5175 non-null   object  \n",
            " 9   review_count  5175 non-null   object  \n",
            " 10  is_open       5175 non-null   object  \n",
            " 11  attributes    4642 non-null   object  \n",
            " 12  categories    5174 non-null   object  \n",
            " 13  hours         4282 non-null   object  \n",
            " 14  geometry      5175 non-null   geometry\n",
            "dtypes: geometry(1), object(14)\n",
            "memory usage: 646.9+ KB\n"
          ]
        }
      ],
      "source": [
        "\n",
        "# SEPARAR LAS COLUMNAS DUPLICADAS SIN VALORES Y CON NOMBRES REPETIDOS\n",
        "df_business = df_business.iloc[:, :14]\n",
        "# MEDIANTE EL ARCHIVO NOMBRADO SE OBTUVIERON LOS VALORES EN LATITUD Y LONGITUD DE LA SUPERFICIE\n",
        "#ESPECIFICA DE CADA ESTADO DE USA.\n",
        "#Los nombres de los estados estan escritos en minuscula y español para simplificar el codigo\n",
        "dic_states =  {\n",
        "                'alabama': 'AL',\n",
        "                'alaska': 'AK',\n",
        "                'arkansas' : 'AR' ,\n",
        "                'california' : 'CA',\n",
        "                'colorado' : 'CO',\n",
        "                'connecticut' : 'CT',\n",
        "                'delaware' : 'DE' ,\n",
        "                'florida' : 'FL' ,\n",
        "                'hawaii' : 'HI' ,\n",
        "                'idaho' : 'ID' ,\n",
        "                'illinois' : 'IL' ,\n",
        "                'iowa' : 'IA' ,\n",
        "                'kansas' : 'KS' ,\n",
        "                'luisiana' : 'LA' ,\n",
        "                'maine' : 'ME' ,\n",
        "                'maryland' : 'MD' ,\n",
        "                'massachusetts' : 'MA' ,\n",
        "                'minnesota' : 'MN' ,\n",
        "                'misisipi' : 'MS'           \n",
        "\n",
        "            }\n",
        "#Simulamos que el usario introduce el nombre del estado de la federación: Probar con Luisiana y California\n",
        "estado_federal = 'California'\n",
        "estado_federal = estado_federal.lower()\n",
        "inicial_estado = dic_states[estado_federal]\n",
        "shapefile_path = '/content/drive/MyDrive/Recomendations_Yelp_GMap/RAW_Data/Yelp_Data/cb_2018_us_state_500k.shp'\n",
        "gdf = gpd.read_file(shapefile_path)\n",
        "gdf_st = gdf[gdf['STUSPS'] == inicial_estado]\n",
        "\n",
        "\n",
        "#MEDIANTE ESTE PASO SE REALIZA EL FILTRADO DE LOS DATOS SEGUN SU UBICACION EN LATITUD Y LONGITUD, DEFINIDA PREVIAMENTE. \n",
        "#\n",
        "\n",
        "\n",
        "gdf_st = gpd.read_file(shapefile_path)\n",
        "st_polygon = gdf_st[gdf_st['STUSPS'] == inicial_estado]['geometry'].iloc[0]\n",
        "\n",
        "# Carga los datos en un DataFrame de Pandas\n",
        "df_filtered = gpd.GeoDataFrame(df_business, geometry=gpd.points_from_xy(df_business.longitude, df_business.latitude))\n",
        "df_filtered = df_filtered[df_filtered.geometry.within(st_polygon)]\n",
        "\n",
        "#ESTOS SON LOS ESTABLECIMIENTOS DEL ESTADO SELECCIONADO DISPONIBLES EN LA BASE DE DATOS\n",
        "#SE CORROBORÓ QUE LA BASE DE DATOS NO ES RESPRESENTATIVA DE LA REALIDAD, PUES EN CIUDADES MUY POBLADAS NO ENCONTRAMOS DATOS. \n",
        "\n",
        "df_filtered.info()\n",
        "# RESULTADO ESPERADO:  FILAS\n"
      ]
    },
    {
      "cell_type": "code",
      "execution_count": null,
      "metadata": {
        "colab": {
          "base_uri": "https://localhost:8080/"
        },
        "id": "4_LVEUHbus3W",
        "outputId": "66e66981-913d-48e1-df22-302d0536ea01"
      },
      "outputs": [
        {
          "output_type": "stream",
          "name": "stdout",
          "text": [
            "<class 'geopandas.geodataframe.GeoDataFrame'>\n",
            "Int64Index: 1160 entries, 85 to 150290\n",
            "Data columns (total 15 columns):\n",
            " #   Column        Non-Null Count  Dtype   \n",
            "---  ------        --------------  -----   \n",
            " 0   business_id   1160 non-null   object  \n",
            " 1   name          1160 non-null   object  \n",
            " 2   address       1160 non-null   object  \n",
            " 3   city          1160 non-null   object  \n",
            " 4   state         1160 non-null   object  \n",
            " 5   postal_code   1160 non-null   object  \n",
            " 6   latitude      1160 non-null   object  \n",
            " 7   longitude     1160 non-null   object  \n",
            " 8   stars         1160 non-null   object  \n",
            " 9   review_count  1160 non-null   object  \n",
            " 10  is_open       1160 non-null   object  \n",
            " 11  attributes    1150 non-null   object  \n",
            " 12  categories    1160 non-null   object  \n",
            " 13  hours         987 non-null    object  \n",
            " 14  geometry      1160 non-null   geometry\n",
            "dtypes: geometry(1), object(14)\n",
            "memory usage: 145.0+ KB\n"
          ]
        }
      ],
      "source": [
        "#SE FILTRA POR TODOS LOS LOCALES QUE CONTENGAN EN ALGUNA CATEGORIA RESTAURANT COMO CATEGORIA\n",
        "df_restaurants = df_filtered[df_filtered['categories'].str.contains('Restaurant|restaurant', na=False)]\n",
        "df_restaurants.info()\n",
        "#RESULTADO ESPERADO: 1160 FILAS. \n",
        "restaurants_file_path = '/content/drive/MyDrive/Recomendations_Yelp_GMap/Clean_Data/'+'Y_bussines_'+inicial_estado+'.parquet'\n",
        "df_restaurants.to_parquet(restaurants_file_path)\n"
      ]
    },
    {
      "cell_type": "markdown",
      "metadata": {
        "id": "N1uMpeGp6uTR"
      },
      "source": [
        "### Lectura del archivo tips"
      ]
    },
    {
      "cell_type": "code",
      "execution_count": null,
      "metadata": {
        "colab": {
          "base_uri": "https://localhost:8080/"
        },
        "id": "2jzOA1_l606i",
        "outputId": "ad4c19e2-629c-4600-e59a-89bc7e8c2b4e"
      },
      "outputs": [
        {
          "output_type": "stream",
          "name": "stdout",
          "text": [
            "<class 'pandas.core.frame.DataFrame'>\n",
            "RangeIndex: 908915 entries, 0 to 908914\n",
            "Data columns (total 5 columns):\n",
            " #   Column            Non-Null Count   Dtype         \n",
            "---  ------            --------------   -----         \n",
            " 0   user_id           908915 non-null  object        \n",
            " 1   business_id       908915 non-null  object        \n",
            " 2   text              908915 non-null  object        \n",
            " 3   date              908915 non-null  datetime64[ns]\n",
            " 4   compliment_count  908915 non-null  int64         \n",
            "dtypes: datetime64[ns](1), int64(1), object(3)\n",
            "memory usage: 34.7+ MB\n"
          ]
        }
      ],
      "source": [
        "# Especifica el archivo tips.json y el número de líneas a leer en cada iteración\n",
        "\n",
        "tip_file_path = '/content/drive/MyDrive/Recomendations_Yelp_GMap/RAW_Data/Yelp_Data/tip.json'\n",
        "# Fijamos el tamaño de la partición para cargar el archivo por partes en memoria\n",
        "chunksize = 100000\n",
        "# Inicializa un objeto vacío de pandas para almacenar los datos\n",
        "df_tip = pd.DataFrame()\n",
        "\n",
        "# Lee el archivo JSON en partes y agrega los datos al DataFrame\n",
        "for chunk in pd.read_json(tip_file_path, lines=True, chunksize=chunksize):\n",
        "    df_tip = pd.concat([df_tip, chunk], ignore_index=True)\n",
        "    \n",
        "df_tip.info()\n"
      ]
    },
    {
      "cell_type": "code",
      "execution_count": null,
      "metadata": {
        "colab": {
          "base_uri": "https://localhost:8080/"
        },
        "id": "nz7AisM58hBP",
        "outputId": "eb77c20c-487a-4584-e57a-633068f16360"
      },
      "outputs": [
        {
          "output_type": "stream",
          "name": "stderr",
          "text": [
            "<ipython-input-12-128ecfd77368>:4: SettingWithCopyWarning: \n",
            "A value is trying to be set on a copy of a slice from a DataFrame\n",
            "\n",
            "See the caveats in the documentation: https://pandas.pydata.org/pandas-docs/stable/user_guide/indexing.html#returning-a-view-versus-a-copy\n",
            "  restaurants_tip_table.drop_duplicates(inplace=True)\n"
          ]
        },
        {
          "output_type": "stream",
          "name": "stdout",
          "text": [
            "<class 'pandas.core.frame.DataFrame'>\n",
            "Int64Index: 77373 entries, 0 to 77375\n",
            "Data columns (total 5 columns):\n",
            " #   Column            Non-Null Count  Dtype         \n",
            "---  ------            --------------  -----         \n",
            " 0   business_id       77373 non-null  object        \n",
            " 1   user_id           77373 non-null  object        \n",
            " 2   text              77373 non-null  object        \n",
            " 3   date              77373 non-null  datetime64[ns]\n",
            " 4   compliment_count  77373 non-null  int64         \n",
            "dtypes: datetime64[ns](1), int64(1), object(3)\n",
            "memory usage: 3.5+ MB\n"
          ]
        }
      ],
      "source": [
        "#SE FILTRA Y UNE LOS TIPS AL ARCHIVO CON LOS RESTAURANTES DEL ESTADO SELECCIONADO\n",
        "restaurants_tip_table = pd.merge(df_restaurants, df_tip, on='business_id')\n",
        "restaurants_tip_table = restaurants_tip_table.iloc[:, np.r_[0, 15:restaurants_tip_table.shape[1]]]\n",
        "restaurants_tip_table.drop_duplicates(inplace=True)\n",
        "restaurants_tips_file_path = '/content/drive/MyDrive/Recomendations_Yelp_GMap/Clean_Data/'+'Y_tips_'+inicial_estado+'.parquet'\n",
        "restaurants_tip_table.to_parquet(restaurants_tips_file_path)\n",
        "\n",
        "restaurants_tip_table.info()"
      ]
    },
    {
      "cell_type": "markdown",
      "metadata": {
        "id": "HcyiWR8M9i9Q"
      },
      "source": [
        "### Lectura archivo user.parquet"
      ]
    },
    {
      "cell_type": "code",
      "execution_count": null,
      "metadata": {
        "id": "jykzJabv9hYA"
      },
      "outputs": [],
      "source": [
        "#LECTURA\n",
        "\n",
        "user_file_path = '/content/drive/MyDrive/Recomendations_Yelp_GMap/RAW_Data/Yelp_Data/user.parquet'\n",
        "\n",
        "df_users = pd.read_parquet(user_file_path)\n",
        "#SE FILTRA EL ARRCHIVO A SOLO LOS USUARIOS QUE HAN REALIZADO TIPS EN LOCALES DEL ESTADO SELECCIONADO. \n",
        "df_state_users = pd.merge( restaurants_tip_table, df_users, on='user_id', how='inner')\n",
        "df_state_users = df_state_users.iloc[:, [2] + list(range(9, len(df_state_users.columns)))]\n",
        "df_state_users.drop_duplicates(inplace=True)\n",
        "\n",
        "# Guardamos el archivo de usuarios del estado seleccionado\n",
        "st_user_file_path = '/content/drive/MyDrive/Recomendations_Yelp_GMap/Clean_Data/'+'Y_user_'+inicial_estado+'.parquet'\n",
        "df_state_users.to_parquet(st_user_file_path)"
      ]
    },
    {
      "cell_type": "markdown",
      "metadata": {
        "id": "HCj5clMrA0li"
      },
      "source": [
        "### Lectura del archivo checking.json"
      ]
    },
    {
      "cell_type": "code",
      "execution_count": null,
      "metadata": {
        "id": "4kC4gyzdAzYM"
      },
      "outputs": [],
      "source": [
        "checkin_file_path = '/content/drive/MyDrive/Recomendations_Yelp_GMap/RAW_Data/Yelp_Data/checkin.json'\n",
        "# Abre el archivo JSON y lee línea por línea\n",
        "with open(checkin_file_path, 'r') as f:\n",
        "    data = []\n",
        "    for line in f:\n",
        "        # Convierte la línea JSON en un diccionario de Python\n",
        "        d = json.loads(line)\n",
        "        data.append(d)\n",
        "\n",
        "# Crea un DataFrame a partir de la lista de diccionarios\n",
        "df_checkin = pd.DataFrame(data)"
      ]
    },
    {
      "cell_type": "markdown",
      "metadata": {
        "id": "XBs23QcVBcUe"
      },
      "source": [
        "### Lectura del archivo review"
      ]
    },
    {
      "cell_type": "code",
      "execution_count": null,
      "metadata": {
        "id": "4DUPNYhuBa40"
      },
      "outputs": [],
      "source": [
        "# Especifica el archivo JSON y el número de líneas a leer en cada iteración\n",
        "\n",
        "review_file_path = '/content/drive/MyDrive/Recomendations_Yelp_GMap/RAW_Data/Yelp_Data/review.json'\n",
        "# Fijamos el tamaño de las particiones para leer el archivo por partes\n",
        "chunksize = 1000000\n",
        "\n",
        "# Inicializa un objeto vacío de pandas para almacenar los datos\n",
        "df_reviews = pd.DataFrame()\n",
        "\n",
        "# Lee el archivo JSON en partes y agrega los datos al DataFrame\n",
        "for chunk in pd.read_json(review_file_path, lines=True, chunksize=chunksize):\n",
        "    df_reviews = pd.concat([df_reviews, chunk], ignore_index=True)\n",
        "    \n",
        "df_reviews.info()"
      ]
    },
    {
      "cell_type": "code",
      "execution_count": null,
      "metadata": {
        "id": "wwY8N9skDjar",
        "colab": {
          "base_uri": "https://localhost:8080/",
          "height": 235
        },
        "outputId": "4e1eb804-63f9-4358-8f47-ccce40fda135"
      },
      "outputs": [
        {
          "output_type": "error",
          "ename": "NameError",
          "evalue": "ignored",
          "traceback": [
            "\u001b[0;31m---------------------------------------------------------------------------\u001b[0m",
            "\u001b[0;31mNameError\u001b[0m                                 Traceback (most recent call last)",
            "\u001b[0;32m<ipython-input-1-af92a32971ca>\u001b[0m in \u001b[0;36m<module>\u001b[0;34m\u001b[0m\n\u001b[1;32m      1\u001b[0m \u001b[0;31m#SE FILTRA Y UNE AL ARCHIVO CON LOS RESTAURANTES DEL ESTADO SELECCIONADO\u001b[0m\u001b[0;34m\u001b[0m\u001b[0;34m\u001b[0m\u001b[0m\n\u001b[0;32m----> 2\u001b[0;31m \u001b[0mrestaurants_reviews_table\u001b[0m \u001b[0;34m=\u001b[0m \u001b[0mpd\u001b[0m\u001b[0;34m.\u001b[0m\u001b[0mmerge\u001b[0m\u001b[0;34m(\u001b[0m\u001b[0mdf_restaurants\u001b[0m\u001b[0;34m,\u001b[0m \u001b[0mdf_reviews\u001b[0m\u001b[0;34m,\u001b[0m \u001b[0mon\u001b[0m\u001b[0;34m=\u001b[0m\u001b[0;34m'business_id'\u001b[0m\u001b[0;34m)\u001b[0m\u001b[0;34m\u001b[0m\u001b[0;34m\u001b[0m\u001b[0m\n\u001b[0m\u001b[1;32m      3\u001b[0m \u001b[0mrestaurants_reviews_table\u001b[0m \u001b[0;34m=\u001b[0m \u001b[0mrestaurants_reviews_table\u001b[0m\u001b[0;34m.\u001b[0m\u001b[0miloc\u001b[0m\u001b[0;34m[\u001b[0m\u001b[0;34m:\u001b[0m\u001b[0;34m,\u001b[0m \u001b[0mnp\u001b[0m\u001b[0;34m.\u001b[0m\u001b[0mr_\u001b[0m\u001b[0;34m[\u001b[0m\u001b[0;36m0\u001b[0m\u001b[0;34m,\u001b[0m \u001b[0;36m15\u001b[0m\u001b[0;34m:\u001b[0m\u001b[0mrestaurants_reviews_table\u001b[0m\u001b[0;34m.\u001b[0m\u001b[0mshape\u001b[0m\u001b[0;34m[\u001b[0m\u001b[0;36m1\u001b[0m\u001b[0;34m]\u001b[0m\u001b[0;34m]\u001b[0m\u001b[0;34m]\u001b[0m\u001b[0;34m\u001b[0m\u001b[0;34m\u001b[0m\u001b[0m\n\u001b[1;32m      4\u001b[0m \u001b[0;34m\u001b[0m\u001b[0m\n\u001b[1;32m      5\u001b[0m \u001b[0;31m# Guardamos el archivo de restorantes y review del estado seleccionado\u001b[0m\u001b[0;34m\u001b[0m\u001b[0;34m\u001b[0m\u001b[0m\n",
            "\u001b[0;31mNameError\u001b[0m: name 'pd' is not defined"
          ]
        }
      ],
      "source": [
        "#SE FILTRA Y UNE AL ARCHIVO CON LOS RESTAURANTES DEL ESTADO SELECCIONADO\n",
        "restaurants_reviews_table = pd.merge(df_restaurants, df_reviews, on='business_id')\n",
        "restaurants_reviews_table = restaurants_reviews_table.iloc[:, np.r_[0, 15:restaurants_reviews_table.shape[1]]]\n",
        "\n",
        "# Guardamos el archivo de restorantes y review del estado seleccionado\n",
        "st_review_file_path = '/content/drive/MyDrive/Recomendations_Yelp_GMap/Clean_Data/'+'Y_review_'+inicial_estado+'.parquet'\n",
        "restaurants_reviews_table.to_parquet(st_review_file_path)\n",
        "\n",
        "restaurants_reviews_table.info()"
      ]
    },
    {
      "cell_type": "code",
      "execution_count": null,
      "metadata": {
        "id": "Si5N1nHhK2Xu",
        "colab": {
          "base_uri": "https://localhost:8080/",
          "height": 217
        },
        "outputId": "2ed28dd3-24d4-4982-cbf2-cd3420188bfb"
      },
      "outputs": [
        {
          "output_type": "error",
          "ename": "NameError",
          "evalue": "ignored",
          "traceback": [
            "\u001b[0;31m---------------------------------------------------------------------------\u001b[0m",
            "\u001b[0;31mNameError\u001b[0m                                 Traceback (most recent call last)",
            "\u001b[0;32m<ipython-input-2-36e869edb6a3>\u001b[0m in \u001b[0;36m<module>\u001b[0;34m\u001b[0m\n\u001b[1;32m      1\u001b[0m \u001b[0;31m#SE CREA UN ARCHIVO ESPECIFICO PARA TRABAJAR EL MODELO DE RECOMENDACION.\u001b[0m\u001b[0;34m\u001b[0m\u001b[0;34m\u001b[0m\u001b[0m\n\u001b[0;32m----> 2\u001b[0;31m \u001b[0mdf_rating\u001b[0m \u001b[0;34m=\u001b[0m \u001b[0mrestaurants_reviews_table\u001b[0m\u001b[0;34m.\u001b[0m\u001b[0miloc\u001b[0m\u001b[0;34m[\u001b[0m\u001b[0;34m:\u001b[0m\u001b[0;34m,\u001b[0m \u001b[0;34m[\u001b[0m\u001b[0;36m0\u001b[0m\u001b[0;34m,\u001b[0m \u001b[0;36m2\u001b[0m\u001b[0;34m,\u001b[0m \u001b[0;36m3\u001b[0m\u001b[0;34m]\u001b[0m\u001b[0;34m]\u001b[0m\u001b[0;34m\u001b[0m\u001b[0;34m\u001b[0m\u001b[0m\n\u001b[0m\u001b[1;32m      3\u001b[0m \u001b[0mrating_file_path\u001b[0m \u001b[0;34m=\u001b[0m \u001b[0;34m'/content/drive/MyDrive/Yelp_GMap_data/'\u001b[0m\u001b[0;34m+\u001b[0m\u001b[0;34m'Y_rating_'\u001b[0m\u001b[0;34m+\u001b[0m\u001b[0minicial_estado\u001b[0m\u001b[0;34m+\u001b[0m\u001b[0;34m'.parquet'\u001b[0m\u001b[0;34m\u001b[0m\u001b[0;34m\u001b[0m\u001b[0m\n\u001b[1;32m      4\u001b[0m \u001b[0mdf_rating\u001b[0m\u001b[0;34m.\u001b[0m\u001b[0mto_parquet\u001b[0m\u001b[0;34m(\u001b[0m\u001b[0mrating_file_path\u001b[0m\u001b[0;34m)\u001b[0m\u001b[0;34m\u001b[0m\u001b[0;34m\u001b[0m\u001b[0m\n",
            "\u001b[0;31mNameError\u001b[0m: name 'restaurants_reviews_table' is not defined"
          ]
        }
      ],
      "source": [
        "#SE CREA UN ARCHIVO ESPECIFICO PARA TRABAJAR EL MODELO DE RECOMENDACION.  \n",
        "df_rating = restaurants_reviews_table.iloc[:, [0, 2, 3]]\n",
        "rating_file_path = '/content/drive/MyDrive/Recomendations_Yelp_GMap/Clean_Data/'+'Y_rating_'+inicial_estado+'.parquet'\n",
        "df_rating.to_parquet(rating_file_path)\n"
      ]
    }
  ],
  "metadata": {
    "accelerator": "TPU",
    "colab": {
      "provenance": []
    },
    "gpuClass": "standard",
    "kernelspec": {
      "display_name": "Python 3",
      "name": "python3"
    },
    "language_info": {
      "name": "python"
    }
  },
  "nbformat": 4,
  "nbformat_minor": 0
}